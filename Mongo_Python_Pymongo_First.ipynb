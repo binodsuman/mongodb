{
 "cells": [
  {
   "cell_type": "code",
   "execution_count": 1,
   "metadata": {},
   "outputs": [],
   "source": [
    "#First install pymongo\n",
    "#pip install pymongo"
   ]
  },
  {
   "cell_type": "code",
   "execution_count": 3,
   "metadata": {},
   "outputs": [],
   "source": [
    "# Make sure Mongodb installed in your local machine\n",
    "# Start Server using \"mongod\" command in Terminal\n",
    "# Start Client using \"mongo\" command in another Termial.\n",
    "# In client terminal execute these both command to create database and collection\n",
    "# use demo\n",
    "# db.createCollection(\"students\")\n",
    "# show dbs\n",
    "# show collections"
   ]
  },
  {
   "cell_type": "code",
   "execution_count": 2,
   "metadata": {},
   "outputs": [],
   "source": [
    "from pymongo import MongoClient"
   ]
  },
  {
   "cell_type": "code",
   "execution_count": 4,
   "metadata": {},
   "outputs": [],
   "source": [
    "# First create one MongoDB Client to execute any further commands.\n",
    "client = MongoClient('mongodb://localhost:27017/')"
   ]
  },
  {
   "cell_type": "code",
   "execution_count": 5,
   "metadata": {},
   "outputs": [
    {
     "data": {
      "text/plain": [
       "['admin', 'config', 'demo', 'local', 'test_database']"
      ]
     },
     "execution_count": 5,
     "metadata": {},
     "output_type": "execute_result"
    }
   ],
   "source": [
    "# To show all database name\n",
    "client.list_database_names()"
   ]
  },
  {
   "cell_type": "code",
   "execution_count": 6,
   "metadata": {},
   "outputs": [],
   "source": [
    "# Create database variable to work on any database \"demo\"\n",
    "db = client[\"demo\"]"
   ]
  },
  {
   "cell_type": "code",
   "execution_count": 7,
   "metadata": {},
   "outputs": [
    {
     "data": {
      "text/plain": [
       "['students', 'books']"
      ]
     },
     "execution_count": 7,
     "metadata": {},
     "output_type": "execute_result"
    }
   ],
   "source": [
    "# To fetch all collection inside \"demo\" database\n",
    "db.list_collection_names()"
   ]
  },
  {
   "cell_type": "code",
   "execution_count": 8,
   "metadata": {},
   "outputs": [],
   "source": [
    "collection = db[\"students\"]"
   ]
  },
  {
   "cell_type": "code",
   "execution_count": 9,
   "metadata": {},
   "outputs": [],
   "source": [
    "#Better use students variable itself\n",
    "students = db[\"students\"]"
   ]
  },
  {
   "cell_type": "code",
   "execution_count": 12,
   "metadata": {},
   "outputs": [
    {
     "data": {
      "text/plain": [
       "0"
      ]
     },
     "execution_count": 12,
     "metadata": {},
     "output_type": "execute_result"
    }
   ],
   "source": [
    "students.count_documents({})"
   ]
  },
  {
   "cell_type": "code",
   "execution_count": 14,
   "metadata": {},
   "outputs": [
    {
     "data": {
      "text/plain": [
       "<pymongo.results.InsertOneResult at 0x243c2a36088>"
      ]
     },
     "execution_count": 14,
     "metadata": {},
     "output_type": "execute_result"
    }
   ],
   "source": [
    "students.insert_one({\"id\":1,\"name\":\"Binod Suman\",\"country\":\"IN\"})"
   ]
  },
  {
   "cell_type": "code",
   "execution_count": 15,
   "metadata": {},
   "outputs": [
    {
     "data": {
      "text/plain": [
       "1"
      ]
     },
     "execution_count": 15,
     "metadata": {},
     "output_type": "execute_result"
    }
   ],
   "source": [
    "students.count_documents({})"
   ]
  },
  {
   "cell_type": "code",
   "execution_count": 16,
   "metadata": {},
   "outputs": [
    {
     "data": {
      "text/plain": [
       "{'_id': ObjectId('5e578f99232cf82e497a37a6'),\n",
       " 'id': 1,\n",
       " 'name': 'Binod Suman',\n",
       " 'country': 'IN'}"
      ]
     },
     "execution_count": 16,
     "metadata": {},
     "output_type": "execute_result"
    }
   ],
   "source": [
    "students.find_one()"
   ]
  },
  {
   "cell_type": "code",
   "execution_count": 18,
   "metadata": {},
   "outputs": [],
   "source": [
    "# Multiple insert\n",
    "studentlist = [\n",
    "  { \"id\":1,\"name\":\"Binod Suman\",\"country\":\"IN\"},\n",
    "  { \"id\":2,\"name\":\"Bill Gates\",\"country\":\"US\"},\n",
    "  { \"id\":3,\"name\":\"Steve Jobs\",\"country\":\"US\"},\n",
    "  { \"id\":4,\"name\":\"Narayan Murthy\",\"country\":\"IN\"},\n",
    "  { \"id\":5,\"name\":\"Azim Premji\",\"country\":\"IN\"},\n",
    "  { \"id\":6,\"name\":\"Nandan Nilekani\",\"country\":\"IN\"},\n",
    "  { \"id\":7,\"name\":\"sundar pichai\",\"country\":\"IN\"}\n",
    "]"
   ]
  },
  {
   "cell_type": "code",
   "execution_count": 19,
   "metadata": {},
   "outputs": [
    {
     "data": {
      "text/plain": [
       "<pymongo.results.InsertManyResult at 0x243c2b92608>"
      ]
     },
     "execution_count": 19,
     "metadata": {},
     "output_type": "execute_result"
    }
   ],
   "source": [
    "students.insert_many(studentlist)"
   ]
  },
  {
   "cell_type": "code",
   "execution_count": 20,
   "metadata": {},
   "outputs": [
    {
     "data": {
      "text/plain": [
       "8"
      ]
     },
     "execution_count": 20,
     "metadata": {},
     "output_type": "execute_result"
    }
   ],
   "source": [
    "students.count_documents({})"
   ]
  },
  {
   "cell_type": "code",
   "execution_count": 23,
   "metadata": {},
   "outputs": [
    {
     "name": "stdout",
     "output_type": "stream",
     "text": [
      "{'_id': ObjectId('5e578f99232cf82e497a37a6'), 'id': 1, 'name': 'Binod Suman', 'country': 'IN'}\n",
      "{'_id': ObjectId('5e579223232cf82e497a37a7'), 'id': 1, 'name': 'Binod Suman', 'country': 'IN'}\n",
      "{'_id': ObjectId('5e579223232cf82e497a37a8'), 'id': 2, 'name': 'Bill Gates', 'country': 'US'}\n",
      "{'_id': ObjectId('5e579223232cf82e497a37a9'), 'id': 3, 'name': 'Steve Jobs', 'country': 'US'}\n",
      "{'_id': ObjectId('5e579223232cf82e497a37aa'), 'id': 4, 'name': 'Narayan Murthy', 'country': 'IN'}\n",
      "{'_id': ObjectId('5e579223232cf82e497a37ab'), 'id': 5, 'name': 'Azim Premji', 'country': 'IN'}\n",
      "{'_id': ObjectId('5e579223232cf82e497a37ac'), 'id': 6, 'name': 'Nandan Nilekani', 'country': 'IN'}\n",
      "{'_id': ObjectId('5e579223232cf82e497a37ad'), 'id': 7, 'name': 'sundar pichai', 'country': 'IN'}\n"
     ]
    }
   ],
   "source": [
    "# Display all records\n",
    "for student in students.find():\n",
    "  print(student)"
   ]
  },
  {
   "cell_type": "code",
   "execution_count": 24,
   "metadata": {},
   "outputs": [
    {
     "name": "stdout",
     "output_type": "stream",
     "text": [
      "{'_id': ObjectId('5e578f99232cf82e497a37a6'), 'id': 1, 'name': 'Binod Suman', 'country': 'IN'}\n",
      "{'_id': ObjectId('5e579223232cf82e497a37a7'), 'id': 1, 'name': 'Binod Suman', 'country': 'IN'}\n"
     ]
    }
   ],
   "source": [
    "# Display limited documents\n",
    "for student in students.find().limit(2):\n",
    "  print(student)"
   ]
  },
  {
   "cell_type": "code",
   "execution_count": 28,
   "metadata": {},
   "outputs": [
    {
     "name": "stdout",
     "output_type": "stream",
     "text": [
      "{'name': 'Binod Suman', 'country': 'IN'}\n",
      "{'name': 'Binod Suman', 'country': 'IN'}\n",
      "{'name': 'Bill Gates', 'country': 'US'}\n",
      "{'name': 'Steve Jobs', 'country': 'US'}\n",
      "{'name': 'Narayan Murthy', 'country': 'IN'}\n",
      "{'name': 'Azim Premji', 'country': 'IN'}\n",
      "{'name': 'Nandan Nilekani', 'country': 'IN'}\n",
      "{'name': 'sundar pichai', 'country': 'IN'}\n"
     ]
    }
   ],
   "source": [
    "# Show only name and country details\n",
    "for student in students.find({},{\"_id\": 0,\"name\": 1,\"country\": 1}):\n",
    "  print(student)"
   ]
  },
  {
   "cell_type": "code",
   "execution_count": 29,
   "metadata": {},
   "outputs": [
    {
     "name": "stdout",
     "output_type": "stream",
     "text": [
      "{'_id': ObjectId('5e578f99232cf82e497a37a6'), 'id': 1, 'name': 'Binod Suman', 'country': 'IN'}\n",
      "{'_id': ObjectId('5e579223232cf82e497a37a7'), 'id': 1, 'name': 'Binod Suman', 'country': 'IN'}\n",
      "{'_id': ObjectId('5e579223232cf82e497a37aa'), 'id': 4, 'name': 'Narayan Murthy', 'country': 'IN'}\n",
      "{'_id': ObjectId('5e579223232cf82e497a37ab'), 'id': 5, 'name': 'Azim Premji', 'country': 'IN'}\n",
      "{'_id': ObjectId('5e579223232cf82e497a37ac'), 'id': 6, 'name': 'Nandan Nilekani', 'country': 'IN'}\n",
      "{'_id': ObjectId('5e579223232cf82e497a37ad'), 'id': 7, 'name': 'sundar pichai', 'country': 'IN'}\n"
     ]
    }
   ],
   "source": [
    "# Get all record country is IN\n",
    "for student in students.find({\"country\":\"IN\"}):\n",
    "  print(student)"
   ]
  },
  {
   "cell_type": "code",
   "execution_count": 30,
   "metadata": {},
   "outputs": [
    {
     "name": "stdout",
     "output_type": "stream",
     "text": [
      "{'_id': ObjectId('5e579223232cf82e497a37a9'), 'id': 3, 'name': 'Steve Jobs', 'country': 'US'}\n",
      "{'_id': ObjectId('5e579223232cf82e497a37aa'), 'id': 4, 'name': 'Narayan Murthy', 'country': 'IN'}\n",
      "{'_id': ObjectId('5e579223232cf82e497a37ab'), 'id': 5, 'name': 'Azim Premji', 'country': 'IN'}\n",
      "{'_id': ObjectId('5e579223232cf82e497a37ac'), 'id': 6, 'name': 'Nandan Nilekani', 'country': 'IN'}\n",
      "{'_id': ObjectId('5e579223232cf82e497a37ad'), 'id': 7, 'name': 'sundar pichai', 'country': 'IN'}\n"
     ]
    }
   ],
   "source": [
    "# Get all record id is more than 2\n",
    "for student in students.find({\"id\":{\"$gt\": 2}}):\n",
    "  print(student)"
   ]
  },
  {
   "cell_type": "code",
   "execution_count": 32,
   "metadata": {},
   "outputs": [
    {
     "name": "stdout",
     "output_type": "stream",
     "text": [
      "{'_id': ObjectId('5e578f99232cf82e497a37a6'), 'id': 1, 'name': 'Binod Suman', 'country': 'IN'}\n",
      "{'_id': ObjectId('5e579223232cf82e497a37a7'), 'id': 1, 'name': 'Binod Suman', 'country': 'IN'}\n",
      "{'_id': ObjectId('5e579223232cf82e497a37a8'), 'id': 2, 'name': 'Bill Gates', 'country': 'US'}\n"
     ]
    }
   ],
   "source": [
    "# Get all record name start with \"B\"\n",
    "for student in students.find({\"name\":{\"$regex\": \"^B\"}}):\n",
    "  print(student)"
   ]
  },
  {
   "cell_type": "code",
   "execution_count": 33,
   "metadata": {},
   "outputs": [
    {
     "name": "stdout",
     "output_type": "stream",
     "text": [
      "{'_id': ObjectId('5e579223232cf82e497a37ab'), 'id': 5, 'name': 'Azim Premji', 'country': 'IN'}\n",
      "{'_id': ObjectId('5e579223232cf82e497a37a8'), 'id': 2, 'name': 'Bill Gates', 'country': 'US'}\n",
      "{'_id': ObjectId('5e578f99232cf82e497a37a6'), 'id': 1, 'name': 'Binod Suman', 'country': 'IN'}\n",
      "{'_id': ObjectId('5e579223232cf82e497a37a7'), 'id': 1, 'name': 'Binod Suman', 'country': 'IN'}\n",
      "{'_id': ObjectId('5e579223232cf82e497a37ac'), 'id': 6, 'name': 'Nandan Nilekani', 'country': 'IN'}\n",
      "{'_id': ObjectId('5e579223232cf82e497a37aa'), 'id': 4, 'name': 'Narayan Murthy', 'country': 'IN'}\n",
      "{'_id': ObjectId('5e579223232cf82e497a37a9'), 'id': 3, 'name': 'Steve Jobs', 'country': 'US'}\n",
      "{'_id': ObjectId('5e579223232cf82e497a37ad'), 'id': 7, 'name': 'sundar pichai', 'country': 'IN'}\n"
     ]
    }
   ],
   "source": [
    "# Sort on name field\n",
    "# Display all records\n",
    "for student in students.find().sort(\"name\"):\n",
    "  print(student)"
   ]
  },
  {
   "cell_type": "code",
   "execution_count": 34,
   "metadata": {},
   "outputs": [
    {
     "name": "stdout",
     "output_type": "stream",
     "text": [
      "6 documents updated.\n"
     ]
    }
   ],
   "source": [
    "#Update Many\n",
    "myquery = { \"country\": { \"$regex\": \"^IN\" } }\n",
    "newvalues = { \"$set\": { \"country\": \"IND\" } }\n",
    "\n",
    "result = students.update_many(myquery, newvalues)\n",
    "\n",
    "print(result.modified_count, \"documents updated.\") "
   ]
  },
  {
   "cell_type": "code",
   "execution_count": 35,
   "metadata": {},
   "outputs": [
    {
     "name": "stdout",
     "output_type": "stream",
     "text": [
      "{'_id': ObjectId('5e579223232cf82e497a37ab'), 'id': 5, 'name': 'Azim Premji', 'country': 'IND'}\n",
      "{'_id': ObjectId('5e579223232cf82e497a37a8'), 'id': 2, 'name': 'Bill Gates', 'country': 'US'}\n",
      "{'_id': ObjectId('5e578f99232cf82e497a37a6'), 'id': 1, 'name': 'Binod Suman', 'country': 'IND'}\n",
      "{'_id': ObjectId('5e579223232cf82e497a37a7'), 'id': 1, 'name': 'Binod Suman', 'country': 'IND'}\n",
      "{'_id': ObjectId('5e579223232cf82e497a37ac'), 'id': 6, 'name': 'Nandan Nilekani', 'country': 'IND'}\n",
      "{'_id': ObjectId('5e579223232cf82e497a37aa'), 'id': 4, 'name': 'Narayan Murthy', 'country': 'IND'}\n",
      "{'_id': ObjectId('5e579223232cf82e497a37a9'), 'id': 3, 'name': 'Steve Jobs', 'country': 'US'}\n",
      "{'_id': ObjectId('5e579223232cf82e497a37ad'), 'id': 7, 'name': 'sundar pichai', 'country': 'IND'}\n"
     ]
    }
   ],
   "source": [
    "for student in students.find().sort(\"name\"):\n",
    "  print(student)"
   ]
  },
  {
   "cell_type": "code",
   "execution_count": null,
   "metadata": {},
   "outputs": [],
   "source": [
    "#  Please subscribe my youtube channel \"Binod Suman Academy\"\n",
    "#  YouTube video on MongoDB https://www.youtube.com/watch?v=puEi_t9PMTE"
   ]
  }
 ],
 "metadata": {
  "kernelspec": {
   "display_name": "Python 3",
   "language": "python",
   "name": "python3"
  },
  "language_info": {
   "codemirror_mode": {
    "name": "ipython",
    "version": 3
   },
   "file_extension": ".py",
   "mimetype": "text/x-python",
   "name": "python",
   "nbconvert_exporter": "python",
   "pygments_lexer": "ipython3",
   "version": "3.7.3"
  }
 },
 "nbformat": 4,
 "nbformat_minor": 2
}
